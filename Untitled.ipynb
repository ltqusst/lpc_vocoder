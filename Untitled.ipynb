{
 "cells": [
  {
   "cell_type": "markdown",
   "metadata": {},
   "source": [
    "# All Pole IIR Digital filters\n",
    "\n",
    "https://en.wikipedia.org/wiki/Infinite_impulse_response\n",
    "\n",
    "All pole form: b=[1], a=[1,...]\n",
    "\n",
    "$$\n",
    "H(z) = \\frac{Y(z)}{X(z)} = \\frac{1}{a[0] + a[1]*Z^{-1} + a[2]*Z^{-2} + ...}\n",
    "$$\n",
    "\n",
    "$$\n",
    "Y(z)*(a[0] + a[1]*Z^{-1} + a[2]*Z^{-2} + ...) = X(z)\n",
    "$$\n",
    "\n",
    "\n",
    "Z-transform:\n",
    "$$\n",
    "    a[0]*y(t) + a[1]*y(t-1) + ... = x(t) \\\\\n",
    "\n",
    "    y(t) = \\frac{x(t) - a[1]*y(t-1) - ...}{a[0]}\n",
    "$$\n",
    "\n",
    "so unlike FIR in which filter is applied to inputs, this filter is actually applied to pass output sequence y(t-1) ~ y(t-N) to generate next prediction, and then plus the residual x(t) to get the actual output y(t).\n",
    "\n",
    "suppose F is the major frequency component in input residual/excitation signal x(t), then the closer F is to the filter's resonance point, the greater the magnitude of output signal will be. thus it simulates the acoustic resonance of human vocal track (https://en.wikipedia.org/wiki/Formant).\n",
    "\n"
   ]
  },
  {
   "cell_type": "code",
   "execution_count": 38,
   "metadata": {},
   "outputs": [
    {
     "name": "stdout",
     "output_type": "stream",
     "text": [
      "[10.  0.  0.  0.  0.] [ 0.  0.  0.  0. 10.]\n"
     ]
    }
   ],
   "source": [
    "buffer = np.zeros(5)\n",
    "x=buffer\n",
    "x[0]=10\n",
    "x = np.roll(x, -1)  \n",
    "print(buffer, x)"
   ]
  },
  {
   "cell_type": "code",
   "execution_count": 39,
   "metadata": {
    "collapsed": false
   },
   "outputs": [],
   "source": [
    "class myAllPoleFilter:\n",
    "\n",
    "    def __init__(self, size):\n",
    "        self.size = size\n",
    "        self.input_accumulator = 0\n",
    "        self.buffer = np.zeros(size)\n",
    "        print(self.size)\n",
    "\n",
    "    def filter(self, data, a):\n",
    "        y = self.buffer\n",
    "        N = self.size\n",
    "        # it's a circular buffer so y[N-i] is y[t-i]\n",
    "        for k in range(data.size):\n",
    "            yN = data[k]\n",
    "            for i in range(1,N):\n",
    "                yN -= (a[i]*y[N-i])\n",
    "            yN = yN/a[0]\n",
    "\n",
    "            y = np.roll(y, -1)            \n",
    "            y[N-1] = yN\n",
    "\n",
    "            data[k] = yN\n",
    "\n",
    "        self.buffer = y\n",
    "        return data"
   ]
  },
  {
   "cell_type": "code",
   "execution_count": 40,
   "metadata": {
    "collapsed": true
   },
   "outputs": [],
   "source": [
    "from __future__ import print_function, division\n",
    "import numpy as np\n",
    "import scipy as sp\n",
    "import matplotlib as mpl\n",
    "import matplotlib.pyplot as plt\n",
    "%matplotlib inline"
   ]
  },
  {
   "cell_type": "code",
   "execution_count": 41,
   "metadata": {
    "collapsed": true
   },
   "outputs": [
    {
     "name": "stdout",
     "output_type": "stream",
     "text": [
      "[1. 0. 0. 0. 0. 0. 0. 0. 0. 0. 0. 0. 0. 0. 0. 0. 0. 0. 0. 0.]\n",
      "[0. 0. 0. 0. 0. 0. 0. 0. 0. 0. 0. 0. 0. 0. 0. 0. 0. 0. 0. 1.]\n"
     ]
    }
   ],
   "source": [
    "x = np.zeros(20,)\n",
    "x[0] = 1\n",
    "print(x)\n",
    "print(np.roll(x, -1))"
   ]
  },
  {
   "cell_type": "code",
   "execution_count": 42,
   "metadata": {
    "collapsed": false
   },
   "outputs": [
    {
     "name": "stdout",
     "output_type": "stream",
     "text": [
      "[-1.          0.08265084  0.50568432  0.08362888]\n"
     ]
    }
   ],
   "source": [
    "a = np.random.uniform(-1,1,4)\n",
    "a[0] = -1\n",
    "print(a)"
   ]
  },
  {
   "cell_type": "code",
   "execution_count": 43,
   "metadata": {
    "collapsed": false
   },
   "outputs": [
    {
     "name": "stdout",
     "output_type": "stream",
     "text": [
      "[ 1.         -0.95791501  0.88498171 -0.60282144]\n",
      "4\n"
     ]
    },
    {
     "data": {
      "text/plain": [
       "<matplotlib.legend.Legend at 0x7fc097e63c18>"
      ]
     },
     "execution_count": 43,
     "metadata": {},
     "output_type": "execute_result"
    },
    {
     "data": {
      "image/png": "[encoded data removed]",
      "text/plain": [
       "<Figure size 432x288 with 1 Axes>"
      ]
     },
     "metadata": {
      "needs_background": "light"
     },
     "output_type": "display_data"
    }
   ],
   "source": [
    "a = -np.array([-1., 0.95791501, -0.88498171,  0.60282144])\n",
    "print(a)\n",
    "x = np.zeros(20,)\n",
    "x[0] = 1\n",
    "import scipy.signal as sig\n",
    "plt.plot(x,label=\"x\")\n",
    "filtered = sig.lfilter([1], a, x)\n",
    "plt.plot(filtered, \"-g\",label=\"filtered\", alpha=0.5)\n",
    "plt.xlim(0, 20)\n",
    "\n",
    "mallpole = myAllPoleFilter(len(a))\n",
    "y = mallpole.filter(x, a)\n",
    "plt.plot(y, \"--o\",label=\"y\", alpha=0.5)\n",
    "plt.legend()"
   ]
  },
  {
   "cell_type": "markdown",
   "metadata": {},
   "source": [
    "our implementation matches sig.lfilter"
   ]
  }
 ],
 "metadata": {
  "interpreter": {
   "hash": "31f2aee4e71d21fbe5cf8b01ff0e069b9275f58929596ceb00d14d90e3e16cd6"
  },
  "kernelspec": {
   "display_name": "Python 2",
   "language": "python",
   "name": "python3"
  },
  "language_info": {
   "codemirror_mode": {
    "name": "ipython",
    "version": 3
   },
   "file_extension": ".py",
   "mimetype": "text/x-python",
   "name": "python",
   "nbconvert_exporter": "python",
   "pygments_lexer": "ipython3",
   "version": "3.6.9"
  }
 },
 "nbformat": 4,
 "nbformat_minor": 0
}
