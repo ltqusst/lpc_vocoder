{
 "cells": [
  {
   "cell_type": "markdown",
   "metadata": {},
   "source": [
    "# WAVENET\n",
    "\n",
    "- web: https://deepmind.com/blog/article/wavenet-generative-model-raw-audio\n",
    "- paper: https://arxiv.org/pdf/1609.03499.pdf\n",
    "- mu-law quantization: https://www.youtube.com/watch?v=xq-HX1F6V2k\n",
    "- transposed convolution(learned upsampling) https://towardsdatascience.com/transposed-convolution-demystified-84ca81b4baba\n",
    "\n",
    "In figure 2, the input & output is clearly raw audio samples, one by one, but that's not conditioned on the text/tone/pitch/accent, so no useful audio can be generated in theory.\n",
    "\n",
    "in `2.5 CONDITIONAL WAVENETS` author explained how additional condition besides past raw audio signal is integrated into the model, from the equation, it's can be viewed as almost the same as raw audio signal, but broadcasted/upsampled for speaker identity related condition(feature).\n",
    "\n",
    "at training time, we have all the inputs including raw past audio signal and speaker identity one-hot encoding and also linguistic features from front-end (front-end is responsible for generating tone/accent pronunciation features from text - which is also trainable, but that's not part of WaveNET, these are not necessary, raw text can also do the job).\n"
   ]
  },
  {
   "cell_type": "markdown",
   "metadata": {},
   "source": [
    "\n",
    "## What are the linguistic features?\n",
    "\n",
    " - phrase: A phrase is a group of words that express a concept and is used as a unit within a sentence\n",
    " - phoneme & syllable: https://www.youtube.com/watch?v=1BlZk7WI1O8\n",
    " - phoneme is smallest unit of sound, 24 consonants + 20 vowels\n",
    " - syllable has at least one vowel (with surrounding consonants): \n",
    "    - cat: 1 syllable, 3 phoneme\n",
    "    - tea: 1 open syllable, 3 phoneme\n",
    "    - say: 1 open syllable, 3 phoneme\n",
    "    - ask: 1 closed syllable, 3 phoneme\n",
    " \n",
    "\n",
    "in `3.2 TEXT-TO-SPEECH`, we see \n",
    ">WaveNets for the TTS task were locally conditioned on linguistic features which were derived\n",
    "from input texts. We also trained WaveNets conditioned on the logarithmic fundamental frequency\n",
    "(log F0) values in addition to the linguistic features. External models predicting log F0 values and\n",
    "phone durations from linguistic features were also trained for each language.\n",
    ">\n",
    ">We found that WaveNet\n",
    "conditioned on linguistic features could synthesize speech samples with natural segmental quality\n",
    "but sometimes it had unnatural prosody by stressing wrong words in a sentence. This could be due\n",
    "to the long-term dependency of F0 contours: the size of the receptive field of the WaveNet, 240\n",
    "milliseconds, was not long enough to capture such long-term dependency. WaveNet conditioned on\n",
    "both linguistic features and F0 values did not have this problem: the external F0 prediction model\n",
    "runs at a lower frequency (200 Hz) so it can learn long-range dependencies that exist in F0 contours.\n",
    "\n",
    "in `Appendix B`, we see \n",
    ">The linguistic features include phone, syllable, word, phrase, and utterance-level features (Zen, 2006) (e.g. phone identities, syllable stress, the number of syllables in a word, and position of the current syllable in a phrase) with additional frame position and phone duration features (Zen et al.,\n",
    "2013). These features were derived and associated with speech every 5 milliseconds by phone-level forced alignment at the training stage. We used LSTM-RNN-based phone duration and autoregressive CNN-based log F0 prediction models. They were trained so as to minimize the mean squared errors (MSE).\n"
   ]
  },
  {
   "cell_type": "code",
   "execution_count": null,
   "metadata": {},
   "outputs": [],
   "source": []
  }
 ],
 "metadata": {
  "interpreter": {
   "hash": "31f2aee4e71d21fbe5cf8b01ff0e069b9275f58929596ceb00d14d90e3e16cd6"
  },
  "kernelspec": {
   "display_name": "Python 3.6.9 64-bit",
   "language": "python",
   "name": "python3"
  },
  "language_info": {
   "name": "python",
   "version": "3.6.9"
  },
  "orig_nbformat": 4
 },
 "nbformat": 4,
 "nbformat_minor": 2
}
